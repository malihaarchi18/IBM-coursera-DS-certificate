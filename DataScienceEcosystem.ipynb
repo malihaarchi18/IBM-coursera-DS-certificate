{
 "cells": [
  {
   "cell_type": "markdown",
   "id": "b4dd606a-c536-4ac8-938a-c0b2e695df80",
   "metadata": {},
   "source": [
    "# Data Science Tools and Ecosystem\n"
   ]
  },
  {
   "cell_type": "markdown",
   "id": "e673eb63-5999-45ee-bf2c-6ff3428d6a69",
   "metadata": {},
   "source": [
    "In this notebook, Data Science Tools and Ecosystem are summarized.\r\n"
   ]
  },
  {
   "cell_type": "markdown",
   "id": "9932f7b9-3e07-482f-871c-5b73550954a9",
   "metadata": {},
   "source": [
    "Some of the popular languages that Data Scientists use are:\r\n",
    "\r\n",
    "1. Python  \r\n",
    "2. R  \r\n",
    "3. SQL\r\n"
   ]
  },
  {
   "cell_type": "markdown",
   "id": "6576a6fb-a0cc-42bc-9c47-1ce4aa820cad",
   "metadata": {},
   "source": [
    "Some of the commonly used libraries used by Data Scientists include:\r\n",
    "\r\n",
    "1. Pandas  \r\n",
    "2. NumPy  \r\n",
    "3. Matplotlib  \r\n",
    "4. Scikit-learn  \r\n",
    "5. TensorFlow\r\n"
   ]
  },
  {
   "cell_type": "markdown",
   "id": "7df1d05a-20da-42c1-bb75-6ee56341ec0b",
   "metadata": {},
   "source": [
    "| Data Science Tools         |\n",
    "|----------------------------|\n",
    "| Jupyter Notebook           |\n",
    "| RStudio                    |\n",
    "| Apache Zeppelin            |\n"
   ]
  },
  {
   "cell_type": "markdown",
   "id": "37701026-4b54-442f-873f-258760758ff3",
   "metadata": {},
   "source": [
    "### Below are a few examples of evaluating arithmetic expressions in Python.\r\n"
   ]
  },
  {
   "cell_type": "code",
   "execution_count": 29,
   "id": "f1f1b52d-3324-4077-8d58-1fe7da0a2f8a",
   "metadata": {},
   "outputs": [
    {
     "data": {
      "text/plain": [
       "17"
      ]
     },
     "execution_count": 29,
     "metadata": {},
     "output_type": "execute_result"
    }
   ],
   "source": [
    "# code cell to multiply and add numbers\n",
    "# This a simple arithmetic expression to mutiply then add integers\n",
    "(3*4)+5"
   ]
  },
  {
   "cell_type": "code",
   "execution_count": 35,
   "id": "49eb68c1-502c-4e01-ad62-1749ef9dfaa9",
   "metadata": {},
   "outputs": [
    {
     "name": "stdout",
     "output_type": "stream",
     "text": [
      "3 hours 20 minutes\n"
     ]
    }
   ],
   "source": [
    "# code cell to convert minutes to hours\n",
    "# This will convert 200 minutes to hours by diving by 60\n",
    "hours = 200//60\n",
    "min = 200%60\n",
    "\n",
    "print(f\"{hours} hours {min} minutes\")"
   ]
  },
  {
   "cell_type": "markdown",
   "id": "aae9d290-1d82-4054-90eb-d1944a1278c5",
   "metadata": {},
   "source": [
    "**Objectives:**\r\n",
    "\r\n",
    "- List popular languages for Data Science  \r\n",
    "- Identify commonly used libraries for Data Science  \r\n",
    "- Create markdown cells in Jupyter Notebook  \r\n",
    "- Perform arithmetic operations using Python code  \r\n",
    "- Create and format tables using Markdown\r\n"
   ]
  },
  {
   "cell_type": "markdown",
   "id": "77bc5082-13af-4a68-8ed6-1fdb2d747caa",
   "metadata": {},
   "source": [
    "## Author\n",
    "\n",
    "Maliha Bintay Zaman\n"
   ]
  },
  {
   "cell_type": "code",
   "execution_count": null,
   "id": "72343d05-40ed-4bb3-a994-8e0d0edfb3e9",
   "metadata": {},
   "outputs": [],
   "source": []
  }
 ],
 "metadata": {
  "kernelspec": {
   "display_name": "Python 3 (ipykernel)",
   "language": "python",
   "name": "python3"
  },
  "language_info": {
   "codemirror_mode": {
    "name": "ipython",
    "version": 3
   },
   "file_extension": ".py",
   "mimetype": "text/x-python",
   "name": "python",
   "nbconvert_exporter": "python",
   "pygments_lexer": "ipython3",
   "version": "3.12.0"
  }
 },
 "nbformat": 4,
 "nbformat_minor": 5
}
